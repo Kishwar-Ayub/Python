{
 "cells": [
  {
   "cell_type": "code",
   "execution_count": 5,
   "metadata": {},
   "outputs": [
    {
     "name": "stdout",
     "output_type": "stream",
     "text": [
      "Mathemtaics marks: 91\n",
      "Urdu marks: 84\n",
      "English marks: 75\n",
      "Physics marks: 85\n",
      "chemistry marks: 73\n",
      "Grade B\n"
     ]
    }
   ],
   "source": [
    "sub1 = int(input(\"Mathemtaics marks: \"))\n",
    "sub2 = int(input(\"Urdu marks: \"))\n",
    "sub3 = int(input(\"English marks: \"))\n",
    "sub4 = int(input(\"Physics marks: \"))\n",
    "sub5 = int(input(\"chemistry marks: \"))\n",
    "\n",
    "average = (sub1 + sub2 + sub3 + sub4 + sub5)/5\n",
    "\n",
    "if (average >= 90):\n",
    "    print(\"Grade A\")\n",
    "elif (average >=75):\n",
    "    print(\"Grade B\")\n",
    "elif (average >= 60):\n",
    "    print(\"Grade c\")\n",
    "else:\n",
    "    print(\"Fail\")"
   ]
  },
  {
   "cell_type": "code",
   "execution_count": 9,
   "metadata": {},
   "outputs": [
    {
     "name": "stdout",
     "output_type": "stream",
     "text": [
      "Please enter number51\n",
      "Number is odd\n"
     ]
    }
   ],
   "source": [
    "num1 = int(input(\"Please enter number\"))\n",
    "if (num1 % 2) == 0:\n",
    "    print(\"Number is even\")\n",
    "else:\n",
    "    print(\"Number is odd\")\n"
   ]
  },
  {
   "cell_type": "code",
   "execution_count": 13,
   "metadata": {},
   "outputs": [
    {
     "name": "stdout",
     "output_type": "stream",
     "text": [
      "5\n"
     ]
    }
   ],
   "source": [
    "length = [1,2,3,4,5]\n",
    "list_l = len(length)\n",
    "print(list_l)"
   ]
  },
  {
   "cell_type": "code",
   "execution_count": 17,
   "metadata": {},
   "outputs": [
    {
     "name": "stdout",
     "output_type": "stream",
     "text": [
      "How many numbers: 2\n",
      "Please enter number: 25\n",
      "Please enter number: 15\n",
      "Sum of all numeric items in a list:  40\n"
     ]
    }
   ],
   "source": [
    "lst = []\n",
    "num = int(input(\"How many numbers: \"))\n",
    "for n in range(num):\n",
    "    number = int(input(\"Please enter number: \"))\n",
    "    lst.append(number)\n",
    "print(\"Sum of all numeric items in a list: \",sum(lst))"
   ]
  },
  {
   "cell_type": "code",
   "execution_count": 21,
   "metadata": {},
   "outputs": [
    {
     "name": "stdout",
     "output_type": "stream",
     "text": [
      "Largest number is :  8\n"
     ]
    }
   ],
   "source": [
    "lst = [2,3,4,5,8,6]\n",
    "print(\"Largest number is : \",max(lst))"
   ]
  },
  {
   "cell_type": "code",
   "execution_count": 25,
   "metadata": {
    "scrolled": true
   },
   "outputs": [
    {
     "name": "stdout",
     "output_type": "stream",
     "text": [
      "[1]\n",
      "[1, 1]\n",
      "[1, 1, 2]\n",
      "[1, 1, 2, 3]\n"
     ]
    }
   ],
   "source": [
    "a = [1,1,2,3,5,8,13,21,34,55,89]\n",
    "lst = []\n",
    "for item in a:\n",
    "    if item < 5:\n",
    "        lst.append(item)\n",
    "    print(lst)"
   ]
  },
  {
   "cell_type": "code",
   "execution_count": null,
   "metadata": {},
   "outputs": [],
   "source": []
  }
 ],
 "metadata": {
  "kernelspec": {
   "display_name": "Python 3",
   "language": "python",
   "name": "python3"
  },
  "language_info": {
   "codemirror_mode": {
    "name": "ipython",
    "version": 3
   },
   "file_extension": ".py",
   "mimetype": "text/x-python",
   "name": "python",
   "nbconvert_exporter": "python",
   "pygments_lexer": "ipython3",
   "version": "3.7.4"
  }
 },
 "nbformat": 4,
 "nbformat_minor": 2
}
