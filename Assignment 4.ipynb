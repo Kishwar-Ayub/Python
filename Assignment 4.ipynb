{
 "cells": [
  {
   "cell_type": "code",
   "execution_count": 9,
   "metadata": {},
   "outputs": [
    {
     "name": "stdout",
     "output_type": "stream",
     "text": [
      "{'first_name': 'Muhammad', 'last_name': 'Faisal', 'age': 34, 'city': 'Karachi'}\n",
      "{'first_name': 'Muhammad', 'last_name': 'Faisal', 'age': 34, 'city': 'Karachi', 'qualification': 'Masters'}\n",
      "{'first_name': 'Muhammad', 'last_name': 'Faisal', 'age': 34, 'city': 'Karachi'}\n"
     ]
    }
   ],
   "source": [
    "#Q1\n",
    "\n",
    "person = {\n",
    "    \"first_name\" : \"Muhammad\" ,\n",
    "    \"last_name\" : \"Faisal\",\n",
    "    \"age\" : 34,\n",
    "    \"city\" : \"Karachi\"\n",
    "}\n",
    "\n",
    "print(person)\n",
    "\n",
    "person[\"qualification\"] = \"Masters\"\n",
    "print(person)\n",
    "\n",
    "del person[\"qualification\"]\n",
    "print(person)"
   ]
  },
  {
   "cell_type": "code",
   "execution_count": 12,
   "metadata": {},
   "outputs": [
    {
     "name": "stdout",
     "output_type": "stream",
     "text": [
      "{'Country': 'Paksitan', 'popualation': 15741000, 'fact': \"contributing 42% of GDP in Pakistan's economy \"}\n",
      "{'Country': 'Norway', 'population': 1026758, 'fact': 'most of city consists of forest'}\n",
      "{'Country': 'USA', 'population': 'close to 2.7 million', 'fact': 'The city has the only river in the world that flows backwards.'}\n"
     ]
    }
   ],
   "source": [
    "cities = {\n",
    "    \"Karachi\" : {\n",
    "        \"Country\" : \"Paksitan\",\n",
    "        \"popualation\" : 15_741_000,\n",
    "        \"fact\" : \"contributing 42% of GDP in Pakistan's economy \"\n",
    "    } ,\n",
    "    \n",
    "    \"Oslo\" : {\n",
    "        \"Country\" : \"Norway\",\n",
    "        \"population\" : 1_026_758,\n",
    "        \"fact\" : \"most of city consists of forest\"\n",
    "    },\n",
    "    \n",
    "    \"Chicago\" : {\n",
    "        \"Country\" : \"USA\",\n",
    "        \"population\" : \"close to 2.7 million\",\n",
    "        \"fact\" : \"The city has the only river in the world that flows backwards.\"\n",
    "    },\n",
    "}\n",
    "\n",
    "print(cities[\"Karachi\"])\n",
    "print(cities[\"Oslo\"])\n",
    "print(cities[\"Chicago\"])\n"
   ]
  },
  {
   "cell_type": "code",
   "execution_count": 32,
   "metadata": {},
   "outputs": [
    {
     "name": "stdout",
     "output_type": "stream",
     "text": [
      "Your age: 90\n",
      "Ticket is $15\n"
     ]
    }
   ],
   "source": [
    "a1 = \"Your age: \"\n",
    "age = input(a1)\n",
    "age = int(age)\n",
    "\n",
    "if age < 3 :\n",
    "    print(\"Ticket is free\")\n",
    "elif age < 13 :\n",
    "        print(\"Ticket is $10\")\n",
    "else:\n",
    "        print(\"Ticket is $15\")\n",
    "        \n",
    "        \n"
   ]
  },
  {
   "cell_type": "code",
   "execution_count": 42,
   "metadata": {},
   "outputs": [
    {
     "name": "stdout",
     "output_type": "stream",
     "text": [
      "One of my fav book is Alice in Wonderland\n"
     ]
    }
   ],
   "source": [
    "def favorite_book(x):\n",
    "    print(\"One of my fav book is Alice in Wonderland\")\n",
    "\n",
    "favorite_book(\"title\")\n"
   ]
  },
  {
   "cell_type": "code",
   "execution_count": 47,
   "metadata": {},
   "outputs": [
    {
     "name": "stdout",
     "output_type": "stream",
     "text": [
      "9\n",
      "Guess the number: 18\n",
      "Your guess is too high\n"
     ]
    }
   ],
   "source": [
    "import random\n",
    "\n",
    "ranges = random.randrange(1,31)\n",
    "# print(ranges)  #if you want to know the exact secret number!\n",
    "\n",
    "a = int(input(\"Guess the number: \"))\n",
    "\n",
    "if a == ranges:\n",
    "    print(\"You guessed coreect!\")\n",
    "elif a > ranges:\n",
    "    print(\"Your guess is too high\")\n",
    "else:\n",
    "    print(\"Your guess is too low\")"
   ]
  },
  {
   "cell_type": "code",
   "execution_count": null,
   "metadata": {},
   "outputs": [],
   "source": []
  },
  {
   "cell_type": "code",
   "execution_count": null,
   "metadata": {},
   "outputs": [],
   "source": []
  }
 ],
 "metadata": {
  "kernelspec": {
   "display_name": "Python 3",
   "language": "python",
   "name": "python3"
  },
  "language_info": {
   "codemirror_mode": {
    "name": "ipython",
    "version": 3
   },
   "file_extension": ".py",
   "mimetype": "text/x-python",
   "name": "python",
   "nbconvert_exporter": "python",
   "pygments_lexer": "ipython3",
   "version": "3.7.4"
  }
 },
 "nbformat": 4,
 "nbformat_minor": 2
}
