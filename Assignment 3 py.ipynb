{
 "cells": [
  {
   "cell_type": "code",
   "execution_count": 2,
   "metadata": {},
   "outputs": [
    {
     "name": "stdout",
     "output_type": "stream",
     "text": [
      "Enter first number for addition please: 2\n",
      "Enter second number for addition please: 2\n",
      "4.0\n",
      "Enter first number for subtraction please: 1\n",
      "Enter 2nd number for subtraction please: 1\n",
      "0.0\n",
      "Enter 1st number for multiplication please: 1\n",
      "Enter second number for multiplication please: 1\n",
      "1.0\n",
      "Enter 1st number for division please: 1\n",
      "Enter 2nd number for division please: 1\n",
      "1.0\n",
      "Enter number for base please: 1\n",
      "Enter number for power1\n",
      "1.0\n"
     ]
    }
   ],
   "source": [
    "#addition\n",
    "n1 = float(input(\"Enter first number for addition please: \"))\n",
    "n2 = float(input(\"Enter second number for addition please: \"))\n",
    "print(n1 + n2)\n",
    "\n",
    "#subtraction\n",
    "n3 = float(input(\"Enter first number for subtraction please: \"))\n",
    "n4 = float(input(\"Enter 2nd number for subtraction please: \"))\n",
    "print(n3 - n4)\n",
    "\n",
    "#multiplication\n",
    "n5 = float(input(\"Enter 1st number for multiplication please: \"))\n",
    "n6 = float(input(\"Enter second number for multiplication please: \"))\n",
    "print(n5 * n6)\n",
    "\n",
    "#divide\n",
    "n7 = float(input(\"Enter 1st number for division please: \"))\n",
    "n8 = float(input(\"Enter 2nd number for division please: \"))\n",
    "print(n7 / n8 )\n",
    "\n",
    "n9 = float(input(\"Enter number for base please: \"))\n",
    "n10 = float(input(\"Enter number for power\"))\n",
    "print(n9**n10)"
   ]
  },
  {
   "cell_type": "code",
   "execution_count": 13,
   "metadata": {},
   "outputs": [
    {
     "name": "stdout",
     "output_type": "stream",
     "text": [
      "No numeric value\n",
      "No numeric value\n",
      "No numeric value\n",
      "No numeric value\n",
      "numeric value is in list 19\n"
     ]
    }
   ],
   "source": [
    "a = [\"itwar\",\"peer\",\"mangal\",\"budh\",19]\n",
    "\n",
    "for numeric_value in a:\n",
    "    if type(numeric_value) == int or type(numeric_value) == float:\n",
    "        print(\"numeric value is in list\",numeric_value)\n",
    "    \n",
    "    else: \n",
    "        print(\"No numeric value\")\n",
    "    "
   ]
  },
  {
   "cell_type": "code",
   "execution_count": 34,
   "metadata": {},
   "outputs": [
    {
     "name": "stdout",
     "output_type": "stream",
     "text": [
      "{'class1': 'room1', 'class2': 'room2', 'class3': 'room3'}\n"
     ]
    }
   ],
   "source": [
    "School = {\n",
    "    \"class1\": \"room1\",\n",
    "    \"class2\": \"room2\"\n",
    "}\n",
    "\n",
    "School[\"class3\"] = \"room3\"\n",
    "print(School)"
   ]
  },
  {
   "cell_type": "code",
   "execution_count": 30,
   "metadata": {},
   "outputs": [
    {
     "name": "stdout",
     "output_type": "stream",
     "text": [
      "8\n"
     ]
    }
   ],
   "source": [
    "abc = {\n",
    "    'a':2,\n",
    "    'b':1,\n",
    "    'c':5\n",
    "}\n",
    "\n",
    "d = sum(abc.values())\n",
    "print(d)"
   ]
  },
  {
   "cell_type": "code",
   "execution_count": 33,
   "metadata": {},
   "outputs": [
    {
     "name": "stdout",
     "output_type": "stream",
     "text": [
      "22\n"
     ]
    }
   ],
   "source": [
    "values = [22,32,1,0,22,35,22]\n",
    "terms = []\n",
    "\n",
    "for i in values:\n",
    "    if not i in terms:\n",
    "        terms.append(i)\n",
    "print(i)\n",
    "\n"
   ]
  },
  {
   "cell_type": "code",
   "execution_count": 48,
   "metadata": {},
   "outputs": [
    {
     "name": "stdout",
     "output_type": "stream",
     "text": [
      "not existant value\n"
     ]
    }
   ],
   "source": [
    "School = {\n",
    "    \"class1\": \"room1\",\n",
    "    \"class2\": \"room2\"\n",
    "}\n",
    "\n",
    "if \"class3\" in School:\n",
    "    print(\"key1 exist\")\n",
    "else:\n",
    "    print(\"not existant value\")"
   ]
  },
  {
   "cell_type": "code",
   "execution_count": null,
   "metadata": {},
   "outputs": [],
   "source": []
  }
 ],
 "metadata": {
  "kernelspec": {
   "display_name": "Python 3",
   "language": "python",
   "name": "python3"
  },
  "language_info": {
   "codemirror_mode": {
    "name": "ipython",
    "version": 3
   },
   "file_extension": ".py",
   "mimetype": "text/x-python",
   "name": "python",
   "nbconvert_exporter": "python",
   "pygments_lexer": "ipython3",
   "version": "3.7.4"
  }
 },
 "nbformat": 4,
 "nbformat_minor": 2
}
