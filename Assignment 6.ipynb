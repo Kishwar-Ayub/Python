{
 "cells": [
  {
   "cell_type": "code",
   "execution_count": 13,
   "metadata": {
    "scrolled": true
   },
   "outputs": [
    {
     "name": "stdout",
     "output_type": "stream",
     "text": [
      "BMW X6 Vantablack\n",
      "2020\n",
      "$35,25K Modified price\n",
      "$33K\n",
      "Red updated color\n",
      "2015\n",
      "2022 Brandnew model\n",
      "Green\n",
      "BMW\n",
      "<__main__.Car object at 0x0000022ECC40BEC8>\n",
      "<__main__.Car object at 0x0000022ECC40E288>\n",
      "<__main__.Car object at 0x0000022ECC40B488>\n",
      "<__main__.Car object at 0x0000022ECC325DC8>\n",
      "<__main__.Car object at 0x0000022ECC3ECF88>\n"
     ]
    }
   ],
   "source": [
    "# Q1\n",
    "# Object- Oriented Programming is a programming style related to concepts of Class, Objects, and various other concepts like Inheritance, Abstraction, Encapsulation, and Polymorphism. \n",
    "\n",
    "# Q2\n",
    "# * It provides a clear modular structure for programs which makes it good for defining abstract datatypes in which implementation details are hidden\n",
    "# * Objects can also be reused within an across applications.\n",
    "# * It makes software easier to maintain.\n",
    "# * Reuse also enables faster development.\n",
    "\n",
    "# Q3\n",
    "# ** Method is called on an onject, unlike functions.\n",
    "# ** A method may alter an object's position, but function usually only operates on it, and then prints something or returns a value.\n",
    "# ** methods may modify an object; functions dont't.\n",
    "\n",
    "# Q4\n",
    "# Class: A class is an entity that determines how an object will behave and what the object will contain. In other words,  is a blueprint or set of instruction to build a specific type of object.\n",
    "\n",
    "# An object is nothing but a self-contained component which consists of methods and properties to make data useful. Object shows the behaviour of the class.\n",
    "# e.g. My name is Kishwar and I'm an object of class Female.\n",
    "\n",
    "# Attribute!\n",
    "# every object has an attribute which determines the properties of a thing. e.g. \n",
    "\n",
    "# Behaviour!\n",
    "# Its a method, does the different things which class can also list the behaviour. \n",
    "\n",
    "# Q5\n",
    "# Write a code in python in which create a class named it Car which\n",
    "# have 5 attributes such like (model, color and name etc.) and 3\n",
    "# methods. And create 5 object instance from that class.\n",
    "\n",
    "class Car():\n",
    "    def __init__(self, model, color, name, price):\n",
    "        self.model = model   ##.model is an attribute\n",
    "        self.color = color\n",
    "        self.name = name\n",
    "        self.price = price\n",
    "        \n",
    "    def car_meth1(self,newprice):\n",
    "        self.price = newprice\n",
    "            \n",
    "    def car_meth2(self,newcolor):\n",
    "        self.color = newcolor\n",
    "        \n",
    "    def car_meth3(self,newmodel):\n",
    "        self.model = newmodel\n",
    "\n",
    "one = Car( 2020,'Black Matte','BMW X6 Vantablack','$35K')\n",
    "\n",
    "print(one.name)\n",
    "print(one.model)\n",
    "one.car_meth1('$35,25K')\n",
    "print(one.price, 'Modified price')\n",
    "\n",
    "two = Car(2017,'Grey Black','BMW Vantablack','$33K')\n",
    "print(two.price)\n",
    "one.car_meth2('Red')\n",
    "print(one.color, 'updated color')\n",
    "\n",
    "three = Car(2015,'White','BMW black','$31K')\n",
    "print(three.model)\n",
    "one.car_meth3('2022')\n",
    "print(one.model,'Brandnew model')\n",
    "\n",
    "four = Car(2013,'Green','BMW Vanta','$29K')\n",
    "print(four.color)\n",
    "\n",
    "five = Car(2011,'Grey','BMW','$27K')\n",
    "print(five.name)\n",
    "\n",
    "print(one)\n",
    "print(two)\n",
    "print(three)\n",
    "print(four)\n",
    "print(five)\n"
   ]
  },
  {
   "cell_type": "code",
   "execution_count": null,
   "metadata": {},
   "outputs": [],
   "source": [
    "\n"
   ]
  }
 ],
 "metadata": {
  "kernelspec": {
   "display_name": "Python 3",
   "language": "python",
   "name": "python3"
  }
 },
 "nbformat": 4,
 "nbformat_minor": 2
}
