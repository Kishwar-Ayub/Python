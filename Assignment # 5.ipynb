{
 "cells": [
  {
   "cell_type": "code",
   "execution_count": null,
   "metadata": {},
   "outputs": [],
   "source": [
    "#Q1\n",
    "\n",
    "def non_neg(x):\n",
    "    if x == 0:\n",
    "        return 1\n",
    "    else:\n",
    "        return x * non_neg(x-1)\n",
    "\n",
    "x = int(input(\"Enter a number: \"))\n",
    "print(non_neg(x))"
   ]
  },
  {
   "cell_type": "code",
   "execution_count": 3,
   "metadata": {
    "scrolled": true
   },
   "outputs": [
    {
     "name": "stdout",
     "output_type": "stream",
     "text": [
      "String:  Assignment Number 5\n",
      "Upper case letter:  2\n",
      "Lower case letter:  14\n"
     ]
    }
   ],
   "source": [
    " #Q2\n",
    "\n",
    "def acc_str(x):\n",
    "    b={\"upper\":0,\"lower\":0}\n",
    "    for i in x:\n",
    "        if i.isupper():\n",
    "            b[\"upper\"] += 1\n",
    "        elif i.islower():\n",
    "            b[\"lower\"] += 1\n",
    "        else:\n",
    "            pass\n",
    "    \n",
    "    print (\"String: \", x)\n",
    "    print (\"Upper case letter: \", b[\"upper\"])\n",
    "    print (\"Lower case letter: \", b[\"lower\"])\n",
    "\n",
    "acc_str('Assignment Number 5')\n"
   ]
  },
  {
   "cell_type": "code",
   "execution_count": 5,
   "metadata": {},
   "outputs": [
    {
     "name": "stdout",
     "output_type": "stream",
     "text": [
      "2\n",
      "4\n",
      "6\n"
     ]
    }
   ],
   "source": [
    "#q3\n",
    "list = [1,2,3,4,5,6]\n",
    "for i in list:\n",
    "    if i % 2 == 0:\n",
    "        print(i)"
   ]
  },
  {
   "cell_type": "code",
   "execution_count": 3,
   "metadata": {},
   "outputs": [
    {
     "name": "stdout",
     "output_type": "stream",
     "text": [
      "True\n"
     ]
    }
   ],
   "source": [
    "def madam(s):\n",
    "    left = 0\n",
    "    right = len(s) - 1\n",
    "    \n",
    "    while right >= left:\n",
    "        if not s[left] == s[right]:\n",
    "            return False\n",
    "        left += 1\n",
    "        right -= 1\n",
    "    return True\n",
    "print(madam(\"ABBA\"))\n",
    "    \n",
    "    "
   ]
  },
  {
   "cell_type": "code",
   "execution_count": 7,
   "metadata": {},
   "outputs": [
    {
     "name": "stdout",
     "output_type": "stream",
     "text": [
      "True\n"
     ]
    }
   ],
   "source": [
    "def prime_num(x):\n",
    "    if(x == 1):\n",
    "        return False\n",
    "    elif (x == 2):\n",
    "        return True;\n",
    "    else:\n",
    "        for n in range(2,x):\n",
    "            if(x % n == 0):\n",
    "                return False\n",
    "        return True\n",
    "print(prime_num(13))"
   ]
  },
  {
   "cell_type": "code",
   "execution_count": 12,
   "metadata": {},
   "outputs": [
    {
     "name": "stdout",
     "output_type": "stream",
     "text": [
      "Pomegeranate and carrot both are red\n",
      "choc: nutella\n",
      "salad: salad leaves\n"
     ]
    }
   ],
   "source": [
    "def shop_lst(fruit, vegetable, **param):\n",
    "    print(fruit + \" and \" + vegetable + \" both are red\" )\n",
    "    \n",
    "    for key,value in param.items():\n",
    "        print(key + \": \" + value)\n",
    "        \n",
    "shop_lst(\"Pomegeranate\" , \"carrot\", choc = \"nutella\" ,salad = \"salad leaves\")\n"
   ]
  },
  {
   "cell_type": "code",
   "execution_count": null,
   "metadata": {},
   "outputs": [],
   "source": []
  }
 ],
 "metadata": {
  "kernelspec": {
   "display_name": "Python 3",
   "language": "python",
   "name": "python3"
  },
  "language_info": {
   "codemirror_mode": {
    "name": "ipython",
    "version": 3
   },
   "file_extension": ".py",
   "mimetype": "text/x-python",
   "name": "python",
   "nbconvert_exporter": "python",
   "pygments_lexer": "ipython3",
   "version": "3.7.4"
  }
 },
 "nbformat": 4,
 "nbformat_minor": 2
}
